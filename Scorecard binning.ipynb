{
 "cells": [
  {
   "cell_type": "code",
   "execution_count": 1,
   "id": "3aa35ecc",
   "metadata": {},
   "outputs": [],
   "source": [
    "import pandas as pd\n",
    "from optbinning import Scorecard, BinningProcess\n",
    "from optbinning import OptimalBinning\n",
    "\n",
    "from sklearn.model_selection import train_test_split\n",
    "from sklearn.linear_model import LogisticRegression\n"
   ]
  },
  {
   "cell_type": "markdown",
   "id": "7c7e87b1",
   "metadata": {},
   "source": [
    "#Load data\n",
    "data = pd.read_csv('/Users/reejungkim/Documents/Git/companies-bankruptcy-forecast/bankruptcy_Train.csv', \n",
    "                   low_memory=True)\n",
    "\n",
    "data.head()"
   ]
  },
  {
   "cell_type": "markdown",
   "id": "50333eb9",
   "metadata": {},
   "source": [
    "df = data.copy()"
   ]
  },
  {
   "cell_type": "markdown",
   "id": "98213fd6",
   "metadata": {
    "scrolled": true
   },
   "source": [
    "#Split the dataset into train and test\n",
    "x_train, x_test, y_train, y_test = train_test_split(\n",
    "    df.loc[:, df.columns!='class'], df['class'], test_size=0.2, random_state=42)"
   ]
  },
  {
   "cell_type": "markdown",
   "id": "43bd110f",
   "metadata": {},
   "source": [
    "variable = (df.loc[:,df.columns!='class']).columns.values\n",
    "variable"
   ]
  },
  {
   "cell_type": "markdown",
   "id": "c3df475b",
   "metadata": {},
   "source": [
    "#Instantiate class and fit to train dataset\n",
    "optb = OptimalBinning(name= variable, dtype='numerical')\n",
    "optb.fit(x_train, y_train)"
   ]
  },
  {
   "cell_type": "markdown",
   "id": "778f9d09",
   "metadata": {},
   "source": [
    "#1) Define list of features and categorical ones\n",
    "list_features = df_train.columns\n",
    "list_categorical = df_train.select_dtypes(include=['object', 'category']).columns.values\n",
    "#2) Instantiate BinningProcess\n",
    "binning_process = BinningProcess(\n",
    "    categorical_variables=list_categorical,\n",
    "    variable_names=list_features)"
   ]
  },
  {
   "cell_type": "markdown",
   "id": "25b59868",
   "metadata": {},
   "source": [
    "#3) Fit and transform dataset\n",
    "df_train_binned = binning_process.fit_transform(x_train, y_train)"
   ]
  },
  {
   "cell_type": "markdown",
   "id": "af08c46a",
   "metadata": {
    "scrolled": true
   },
   "source": [
    "#3) To perform the binning of a dataset\n",
    "X_binned = optb.transform(x_train)\n"
   ]
  },
  {
   "cell_type": "markdown",
   "id": "ee25a799",
   "metadata": {},
   "source": [
    "#4) To visualize the results table and plot\n",
    "optb.binning_table.build()\n",
    "optb.binning_table.plot(metric=\"woe\")"
   ]
  },
  {
   "cell_type": "markdown",
   "id": "236d333c",
   "metadata": {},
   "source": [
    "#1) Define list of features and categorical ones\n",
    "list_features = df_train.drop(columns=['TARGET']).columns.values\n",
    "list_categorical = df_train.select_dtypes(include=['object', 'category']).columns.values\n",
    "\n",
    "\n",
    "#2) Instantiate BinningProcess\n",
    "binning_process = BinningProcess(\n",
    "    categorical_variables=list_categorical,\n",
    "    variable_names=list_features)\n",
    "#3) Fit and transform dataset\n",
    "df_train_binned = binning_process.fit_transform(df_train, y)"
   ]
  },
  {
   "cell_type": "code",
   "execution_count": null,
   "id": "cf8cbc9b",
   "metadata": {},
   "outputs": [],
   "source": []
  },
  {
   "cell_type": "code",
   "execution_count": null,
   "id": "c7ece793",
   "metadata": {},
   "outputs": [],
   "source": []
  },
  {
   "cell_type": "code",
   "execution_count": null,
   "id": "c7dbcc56",
   "metadata": {},
   "outputs": [],
   "source": []
  },
  {
   "cell_type": "code",
   "execution_count": 2,
   "id": "79832708",
   "metadata": {},
   "outputs": [],
   "source": [
    "from sklearn.datasets import load_breast_cancer\n",
    "\n",
    "data = load_breast_cancer()\n",
    "df = pd.DataFrame(data.data, columns=data.feature_names)\n",
    "\n",
    "variable = \"mean radius\"\n",
    "x = df[variable].values\n",
    "y = data.target"
   ]
  },
  {
   "cell_type": "code",
   "execution_count": 3,
   "id": "46b6e4e5",
   "metadata": {},
   "outputs": [
    {
     "data": {
      "text/plain": [
       "OptimalBinning(name='mean radius')"
      ]
     },
     "execution_count": 3,
     "metadata": {},
     "output_type": "execute_result"
    }
   ],
   "source": [
    "from optbinning import OptimalBinning\n",
    "optb = OptimalBinning(name=variable, dtype=\"numerical\", solver=\"cp\")\n",
    "optb.fit(x, y)"
   ]
  },
  {
   "cell_type": "code",
   "execution_count": 4,
   "id": "1740375c",
   "metadata": {},
   "outputs": [
    {
     "data": {
      "text/plain": [
       "'OPTIMAL'"
      ]
     },
     "execution_count": 4,
     "metadata": {},
     "output_type": "execute_result"
    }
   ],
   "source": [
    "optb.status"
   ]
  },
  {
   "cell_type": "code",
   "execution_count": 5,
   "id": "1b1b9e28",
   "metadata": {},
   "outputs": [
    {
     "data": {
      "text/plain": [
       "array([11.42500019, 12.32999992, 13.09499979, 13.70499992, 15.04500008,\n",
       "       16.92500019])"
      ]
     },
     "execution_count": 5,
     "metadata": {},
     "output_type": "execute_result"
    }
   ],
   "source": [
    "optb.splits"
   ]
  },
  {
   "cell_type": "code",
   "execution_count": 6,
   "id": "80c1d3d3",
   "metadata": {},
   "outputs": [
    {
     "data": {
      "text/html": [
       "<div>\n",
       "<style scoped>\n",
       "    .dataframe tbody tr th:only-of-type {\n",
       "        vertical-align: middle;\n",
       "    }\n",
       "\n",
       "    .dataframe tbody tr th {\n",
       "        vertical-align: top;\n",
       "    }\n",
       "\n",
       "    .dataframe thead th {\n",
       "        text-align: right;\n",
       "    }\n",
       "</style>\n",
       "<table border=\"1\" class=\"dataframe\">\n",
       "  <thead>\n",
       "    <tr style=\"text-align: right;\">\n",
       "      <th></th>\n",
       "      <th>Bin</th>\n",
       "      <th>Count</th>\n",
       "      <th>Count (%)</th>\n",
       "      <th>Non-event</th>\n",
       "      <th>Event</th>\n",
       "      <th>Event rate</th>\n",
       "      <th>WoE</th>\n",
       "      <th>IV</th>\n",
       "      <th>JS</th>\n",
       "    </tr>\n",
       "  </thead>\n",
       "  <tbody>\n",
       "    <tr>\n",
       "      <th>0</th>\n",
       "      <td>(-inf, 11.43)</td>\n",
       "      <td>118</td>\n",
       "      <td>0.207381</td>\n",
       "      <td>3</td>\n",
       "      <td>115</td>\n",
       "      <td>0.974576</td>\n",
       "      <td>-3.12517</td>\n",
       "      <td>0.962483</td>\n",
       "      <td>0.087205</td>\n",
       "    </tr>\n",
       "    <tr>\n",
       "      <th>1</th>\n",
       "      <td>[11.43, 12.33)</td>\n",
       "      <td>79</td>\n",
       "      <td>0.138840</td>\n",
       "      <td>3</td>\n",
       "      <td>76</td>\n",
       "      <td>0.962025</td>\n",
       "      <td>-2.710972</td>\n",
       "      <td>0.538763</td>\n",
       "      <td>0.052198</td>\n",
       "    </tr>\n",
       "    <tr>\n",
       "      <th>2</th>\n",
       "      <td>[12.33, 13.09)</td>\n",
       "      <td>68</td>\n",
       "      <td>0.119508</td>\n",
       "      <td>7</td>\n",
       "      <td>61</td>\n",
       "      <td>0.897059</td>\n",
       "      <td>-1.643814</td>\n",
       "      <td>0.226599</td>\n",
       "      <td>0.025513</td>\n",
       "    </tr>\n",
       "    <tr>\n",
       "      <th>3</th>\n",
       "      <td>[13.09, 13.70)</td>\n",
       "      <td>49</td>\n",
       "      <td>0.086116</td>\n",
       "      <td>10</td>\n",
       "      <td>39</td>\n",
       "      <td>0.795918</td>\n",
       "      <td>-0.839827</td>\n",
       "      <td>0.052131</td>\n",
       "      <td>0.006331</td>\n",
       "    </tr>\n",
       "    <tr>\n",
       "      <th>4</th>\n",
       "      <td>[13.70, 15.05)</td>\n",
       "      <td>83</td>\n",
       "      <td>0.145870</td>\n",
       "      <td>28</td>\n",
       "      <td>55</td>\n",
       "      <td>0.662651</td>\n",
       "      <td>-0.153979</td>\n",
       "      <td>0.003385</td>\n",
       "      <td>0.000423</td>\n",
       "    </tr>\n",
       "    <tr>\n",
       "      <th>5</th>\n",
       "      <td>[15.05, 16.93)</td>\n",
       "      <td>54</td>\n",
       "      <td>0.094903</td>\n",
       "      <td>44</td>\n",
       "      <td>10</td>\n",
       "      <td>0.185185</td>\n",
       "      <td>2.002754</td>\n",
       "      <td>0.359566</td>\n",
       "      <td>0.038678</td>\n",
       "    </tr>\n",
       "    <tr>\n",
       "      <th>6</th>\n",
       "      <td>[16.93, inf)</td>\n",
       "      <td>118</td>\n",
       "      <td>0.207381</td>\n",
       "      <td>117</td>\n",
       "      <td>1</td>\n",
       "      <td>0.008475</td>\n",
       "      <td>5.283323</td>\n",
       "      <td>2.900997</td>\n",
       "      <td>0.183436</td>\n",
       "    </tr>\n",
       "    <tr>\n",
       "      <th>7</th>\n",
       "      <td>Special</td>\n",
       "      <td>0</td>\n",
       "      <td>0.000000</td>\n",
       "      <td>0</td>\n",
       "      <td>0</td>\n",
       "      <td>0.000000</td>\n",
       "      <td>0.0</td>\n",
       "      <td>0.000000</td>\n",
       "      <td>0.000000</td>\n",
       "    </tr>\n",
       "    <tr>\n",
       "      <th>8</th>\n",
       "      <td>Missing</td>\n",
       "      <td>0</td>\n",
       "      <td>0.000000</td>\n",
       "      <td>0</td>\n",
       "      <td>0</td>\n",
       "      <td>0.000000</td>\n",
       "      <td>0.0</td>\n",
       "      <td>0.000000</td>\n",
       "      <td>0.000000</td>\n",
       "    </tr>\n",
       "    <tr>\n",
       "      <th>Totals</th>\n",
       "      <td></td>\n",
       "      <td>569</td>\n",
       "      <td>1.000000</td>\n",
       "      <td>212</td>\n",
       "      <td>357</td>\n",
       "      <td>0.627417</td>\n",
       "      <td></td>\n",
       "      <td>5.043925</td>\n",
       "      <td>0.393784</td>\n",
       "    </tr>\n",
       "  </tbody>\n",
       "</table>\n",
       "</div>"
      ],
      "text/plain": [
       "                   Bin  Count  Count (%)  Non-event  Event  Event rate  \\\n",
       "0        (-inf, 11.43)    118   0.207381          3    115    0.974576   \n",
       "1       [11.43, 12.33)     79   0.138840          3     76    0.962025   \n",
       "2       [12.33, 13.09)     68   0.119508          7     61    0.897059   \n",
       "3       [13.09, 13.70)     49   0.086116         10     39    0.795918   \n",
       "4       [13.70, 15.05)     83   0.145870         28     55    0.662651   \n",
       "5       [15.05, 16.93)     54   0.094903         44     10    0.185185   \n",
       "6         [16.93, inf)    118   0.207381        117      1    0.008475   \n",
       "7              Special      0   0.000000          0      0    0.000000   \n",
       "8              Missing      0   0.000000          0      0    0.000000   \n",
       "Totals                    569   1.000000        212    357    0.627417   \n",
       "\n",
       "             WoE        IV        JS  \n",
       "0       -3.12517  0.962483  0.087205  \n",
       "1      -2.710972  0.538763  0.052198  \n",
       "2      -1.643814  0.226599  0.025513  \n",
       "3      -0.839827  0.052131  0.006331  \n",
       "4      -0.153979  0.003385  0.000423  \n",
       "5       2.002754  0.359566  0.038678  \n",
       "6       5.283323  2.900997  0.183436  \n",
       "7            0.0  0.000000  0.000000  \n",
       "8            0.0  0.000000  0.000000  \n",
       "Totals            5.043925  0.393784  "
      ]
     },
     "execution_count": 6,
     "metadata": {},
     "output_type": "execute_result"
    }
   ],
   "source": [
    "optb.binning_table.build()"
   ]
  },
  {
   "cell_type": "code",
   "execution_count": 7,
   "id": "ff0ccf6f",
   "metadata": {},
   "outputs": [
    {
     "data": {
      "image/png": "[encoded data removed]",
      "text/plain": [
       "<Figure size 432x288 with 2 Axes>"
      ]
     },
     "metadata": {
      "needs_background": "light"
     },
     "output_type": "display_data"
    }
   ],
   "source": [
    "optb.binning_table.plot(metric=\"woe\")"
   ]
  },
  {
   "cell_type": "code",
   "execution_count": 8,
   "id": "da490d59",
   "metadata": {},
   "outputs": [
    {
     "data": {
      "image/png": "[encoded data removed]",
      "text/plain": [
       "<Figure size 432x288 with 2 Axes>"
      ]
     },
     "metadata": {
      "needs_background": "light"
     },
     "output_type": "display_data"
    }
   ],
   "source": [
    "optb.binning_table.plot(metric=\"woe\", style=\"actual\", \n",
    "                        add_special=False, add_missing=False)\n"
   ]
  },
  {
   "cell_type": "code",
   "execution_count": 12,
   "id": "dba1e1c2",
   "metadata": {},
   "outputs": [
    {
     "data": {
      "image/png": "[encoded data removed]",
      "text/plain": [
       "<Figure size 432x288 with 2 Axes>"
      ]
     },
     "metadata": {
      "needs_background": "light"
     },
     "output_type": "display_data"
    }
   ],
   "source": [
    "optb.binning_table.plot(metric=\"woe\", style=\"actual\", \n",
    "                        add_special=True, add_missing=True)\n"
   ]
  },
  {
   "cell_type": "code",
   "execution_count": null,
   "id": "868c272f",
   "metadata": {},
   "outputs": [],
   "source": []
  }
 ],
 "metadata": {
  "kernelspec": {
   "display_name": "Python 3 (ipykernel)",
   "language": "python",
   "name": "python3"
  },
  "language_info": {
   "codemirror_mode": {
    "name": "ipython",
    "version": 3
   },
   "file_extension": ".py",
   "mimetype": "text/x-python",
   "name": "python",
   "nbconvert_exporter": "python",
   "pygments_lexer": "ipython3",
   "version": "3.7.11"
  }
 },
 "nbformat": 4,
 "nbformat_minor": 5
}
